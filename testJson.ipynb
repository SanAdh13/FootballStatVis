{
 "cells": [
  {
   "cell_type": "code",
   "execution_count": 1,
   "metadata": {},
   "outputs": [],
   "source": [
    "import requests\n",
    "from bs4 import BeautifulSoup"
   ]
  },
  {
   "cell_type": "code",
   "execution_count": 2,
   "metadata": {},
   "outputs": [],
   "source": [
    "scoutURL = 'https://fbref.com/en/players/d70ce98e/scout/365_m1/Lionel-Messi-Scouting-Report'\n",
    "response = requests.get(scoutURL)\n",
    "response.raise_for_status()\n",
    "\n",
    "# Create a BeautifulSoup object to parse the HTML content\n",
    "soup = BeautifulSoup(response.content, 'html.parser')\n",
    "div = soup.find('div',id='all_scout_summary')\n"
   ]
  },
  {
   "cell_type": "code",
   "execution_count": 3,
   "metadata": {},
   "outputs": [],
   "source": [
    "def getTablesContent(table):\n",
    "    row_data = {}\n",
    "    \n",
    "    tbody = table.find('tbody')\n",
    "    \n",
    "    \n",
    "    tbodyRows = tbody.find_all('tr')\n",
    "\n",
    "    for row in tbodyRows:\n",
    "        # this will hold the dict for each thing  eg. {'xG:[<td>,<td>]}\n",
    "        \n",
    "\n",
    "        #<th> holds the label while <td> holds the value and percentile\n",
    "        title = row.find('th')\n",
    "        titleValue = title.get_text(strip=True)\n",
    "        # row_data[titleValue] \n",
    "        \n",
    "        cellData = []\n",
    "        cells = row.find_all('td')\n",
    "        if all(cell.get_text(strip=True) == '' for cell in cells):\n",
    "            continue  # Skip the empty row\n",
    "        \n",
    "        for cell in cells:\n",
    "            text = cell.get_text(strip=True)\n",
    "            if text.endswith('%'):\n",
    "                cellData.append(text[:-1])\n",
    "            else:\n",
    "                cellData.append(text) \n",
    "        # tbody_data.append(row_data)\n",
    "        row_data[titleValue]=cellData\n",
    "        \n",
    "    return row_data\n",
    "\n",
    "\n",
    "    "
   ]
  },
  {
   "cell_type": "code",
   "execution_count": 4,
   "metadata": {},
   "outputs": [],
   "source": [
    "titles = div.find('div',class_='filter switcher')\n",
    "\n",
    "atags = titles.findAll('a')\n",
    "\n",
    "values = {}\n",
    "tables = div.find_all('table')\n",
    "\n",
    "for index,a in enumerate(atags):\n",
    "    value= a.get_text(strip=True)\n",
    "    \n",
    "    values[value] = getTablesContent(tables[index])\n",
    "\n"
   ]
  },
  {
   "cell_type": "code",
   "execution_count": 5,
   "metadata": {},
   "outputs": [],
   "source": [
    "name = scoutURL.split('/')[-1]\n",
    "name = name.split('-')[:2]\n",
    "\n",
    "name = \"-\".join(name)\n"
   ]
  },
  {
   "cell_type": "code",
   "execution_count": 6,
   "metadata": {},
   "outputs": [
    {
     "name": "stdout",
     "output_type": "stream",
     "text": [
      "{'Lionel-Messi': {'vs. Forwards': {'Non-Penalty Goals': ['0.52', '82'], 'Non-Penalty xG': ['0.47', '85'], 'Shots Total': ['3.97', '96'], 'Assists': ['0.52', '99'], 'xAG': ['0.41', '99'], 'npxG + xAG': ['0.88', '97'], 'Shot-Creating Actions': ['6.23', '99'], 'Passes Attempted': ['64.25', '99'], 'Pass Completion %': ['80.9', '95'], 'Progressive Passes': ['9.21', '99'], 'Progressive Carries': ['3.63', '97'], 'Successful Take-Ons': ['3.03', '99'], 'Touches (Att Pen)': ['4.70', '44'], 'Progressive Passes Rec': ['6.47', '60'], 'Tackles': ['0.78', '69'], 'Interceptions': ['0.13', '35'], 'Blocks': ['0.37', '13'], 'Clearances': ['0.00', '2'], 'Aerials won': ['0.05', '1']}, 'vs. Att Mid / Wingers': {'Non-Penalty Goals': ['0.52', '96'], 'Non-Penalty xG': ['0.47', '98'], 'Shots Total': ['3.97', '99'], 'Assists': ['0.52', '99'], 'xAG': ['0.41', '98'], 'npxG + xAG': ['0.88', '99'], 'Shot-Creating Actions': ['6.23', '99'], 'Passes Attempted': ['64.25', '99'], 'Pass Completion %': ['80.9', '87'], 'Progressive Passes': ['9.21', '99'], 'Progressive Carries': ['3.63', '68'], 'Successful Take-Ons': ['3.03', '95'], 'Touches (Att Pen)': ['4.70', '73'], 'Progressive Passes Rec': ['6.47', '30'], 'Tackles': ['0.78', '14'], 'Interceptions': ['0.13', '3'], 'Blocks': ['0.37', '3'], 'Clearances': ['0.00', '1'], 'Aerials won': ['0.05', '3']}}}\n"
     ]
    }
   ],
   "source": [
    "finalDict = {}\n",
    "finalDict[name] = values\n",
    "print(finalDict)"
   ]
  },
  {
   "cell_type": "code",
   "execution_count": 7,
   "metadata": {},
   "outputs": [
    {
     "name": "stdout",
     "output_type": "stream",
     "text": [
      "{\"Lionel-Messi\": {\"vs. Forwards\": {\"Non-Penalty Goals\": [\"0.52\", \"82\"], \"Non-Penalty xG\": [\"0.47\", \"85\"], \"Shots Total\": [\"3.97\", \"96\"], \"Assists\": [\"0.52\", \"99\"], \"xAG\": [\"0.41\", \"99\"], \"npxG + xAG\": [\"0.88\", \"97\"], \"Shot-Creating Actions\": [\"6.23\", \"99\"], \"Passes Attempted\": [\"64.25\", \"99\"], \"Pass Completion %\": [\"80.9\", \"95\"], \"Progressive Passes\": [\"9.21\", \"99\"], \"Progressive Carries\": [\"3.63\", \"97\"], \"Successful Take-Ons\": [\"3.03\", \"99\"], \"Touches (Att Pen)\": [\"4.70\", \"44\"], \"Progressive Passes Rec\": [\"6.47\", \"60\"], \"Tackles\": [\"0.78\", \"69\"], \"Interceptions\": [\"0.13\", \"35\"], \"Blocks\": [\"0.37\", \"13\"], \"Clearances\": [\"0.00\", \"2\"], \"Aerials won\": [\"0.05\", \"1\"]}, \"vs. Att Mid / Wingers\": {\"Non-Penalty Goals\": [\"0.52\", \"96\"], \"Non-Penalty xG\": [\"0.47\", \"98\"], \"Shots Total\": [\"3.97\", \"99\"], \"Assists\": [\"0.52\", \"99\"], \"xAG\": [\"0.41\", \"98\"], \"npxG + xAG\": [\"0.88\", \"99\"], \"Shot-Creating Actions\": [\"6.23\", \"99\"], \"Passes Attempted\": [\"64.25\", \"99\"], \"Pass Completion %\": [\"80.9\", \"87\"], \"Progressive Passes\": [\"9.21\", \"99\"], \"Progressive Carries\": [\"3.63\", \"68\"], \"Successful Take-Ons\": [\"3.03\", \"95\"], \"Touches (Att Pen)\": [\"4.70\", \"73\"], \"Progressive Passes Rec\": [\"6.47\", \"30\"], \"Tackles\": [\"0.78\", \"14\"], \"Interceptions\": [\"0.13\", \"3\"], \"Blocks\": [\"0.37\", \"3\"], \"Clearances\": [\"0.00\", \"1\"], \"Aerials won\": [\"0.05\", \"3\"]}}}\n"
     ]
    }
   ],
   "source": [
    "import json\n",
    "print(json.dumps(finalDict))"
   ]
  },
  {
   "cell_type": "code",
   "execution_count": 8,
   "metadata": {},
   "outputs": [
    {
     "name": "stdout",
     "output_type": "stream",
     "text": [
      "['Non-Penalty Goals', 'Non-Penalty xG', 'Shots Total', 'Assists', 'xAG', 'npxG + xAG', 'Shot-Creating Actions', 'Passes Attempted', 'Pass Completion %', 'Progressive Passes', 'Progressive Carries', 'Successful Take-Ons', 'Touches (Att Pen)', 'Progressive Passes Rec', 'Tackles', 'Interceptions', 'Blocks', 'Clearances', 'Aerials won']\n"
     ]
    }
   ],
   "source": [
    "# TODO: working on this one so it follows the dict format of the main code\n",
    "positions = []\n",
    "statsNames = []\n",
    "results = []\n",
    "playername = []\n",
    "\n",
    "#first dict key is the player name and the values are the all the information\n",
    "for name,stats in finalDict.items():\n",
    "    playername.append(name)\n",
    "    for versusPositions,positionStats in stats.items():\n",
    "        positions.append(versusPositions)\n",
    "        positionsVal = []\n",
    "        # print(versusPositions)\n",
    "        for statname,statisticsArray in positionStats.items():\n",
    "            if statname not in statsNames:\n",
    "                statsNames.append(statname)\n",
    "            positionsVal.append(int(statisticsArray[-1])) \n",
    "        results.append(positionsVal)\n",
    "\n",
    "# print(positions)\n",
    "print(statsNames)"
   ]
  },
  {
   "cell_type": "code",
   "execution_count": 9,
   "metadata": {},
   "outputs": [],
   "source": [
    "import plotly.graph_objects as go\n",
    "from plotly.subplots import make_subplots\n",
    "# positions = []\n",
    "# statsNames = []\n",
    "# results = []\n",
    "# for key,value in values.items():\n",
    "#     positions.append(key)\n",
    "#     positionalval=[]\n",
    "#     for k,v in value.items():\n",
    "#         # print(f\"{k}:{v}\")\n",
    "#         if k not in statsNames:  \n",
    "#             statsNames.append(k)\n",
    "#         positionalval.append(int(v[-1]))\n",
    "#     results.append(positionalval)\n",
    "    \n",
    "# print(positions)\n",
    "# print(statsNames)\n",
    "# print(len(results))\n",
    "    \n",
    "\n",
    "\n",
    "\n"
   ]
  },
  {
   "cell_type": "code",
   "execution_count": 10,
   "metadata": {},
   "outputs": [],
   "source": [
    "# title = scoutURL.split('/')[-1]\n",
    "# title = title.split('-')\n",
    "# title = \" \".join(title)+\" Percentile\"\n",
    "# print(title)"
   ]
  },
  {
   "cell_type": "code",
   "execution_count": 11,
   "metadata": {},
   "outputs": [
    {
     "data": {
      "application/vnd.plotly.v1+json": {
       "config": {
        "plotlyServerURL": "https://plot.ly"
       },
       "data": [
        {
         "fill": "toself",
         "name": "vs. Forwards",
         "r": [
          82,
          85,
          96,
          99,
          99,
          97,
          99,
          99,
          95,
          99,
          97,
          99,
          44,
          60,
          69,
          35,
          13,
          2,
          1
         ],
         "subplot": "polar",
         "theta": [
          "Non-Penalty Goals",
          "Non-Penalty xG",
          "Shots Total",
          "Assists",
          "xAG",
          "npxG + xAG",
          "Shot-Creating Actions",
          "Passes Attempted",
          "Pass Completion %",
          "Progressive Passes",
          "Progressive Carries",
          "Successful Take-Ons",
          "Touches (Att Pen)",
          "Progressive Passes Rec",
          "Tackles",
          "Interceptions",
          "Blocks",
          "Clearances",
          "Aerials won"
         ],
         "type": "scatterpolar"
        },
        {
         "fill": "toself",
         "name": "vs. Att Mid / Wingers",
         "r": [
          96,
          98,
          99,
          99,
          98,
          99,
          99,
          99,
          87,
          99,
          68,
          95,
          73,
          30,
          14,
          3,
          3,
          1,
          3
         ],
         "subplot": "polar2",
         "theta": [
          "Non-Penalty Goals",
          "Non-Penalty xG",
          "Shots Total",
          "Assists",
          "xAG",
          "npxG + xAG",
          "Shot-Creating Actions",
          "Passes Attempted",
          "Pass Completion %",
          "Progressive Passes",
          "Progressive Carries",
          "Successful Take-Ons",
          "Touches (Att Pen)",
          "Progressive Passes Rec",
          "Tackles",
          "Interceptions",
          "Blocks",
          "Clearances",
          "Aerials won"
         ],
         "type": "scatterpolar"
        }
       ],
       "layout": {
        "font": {
         "size": 15
        },
        "polar": {
         "domain": {
          "x": [
           0,
           0.45
          ],
          "y": [
           0,
           1
          ]
         }
        },
        "polar2": {
         "domain": {
          "x": [
           0.55,
           1
          ],
          "y": [
           0,
           1
          ]
         }
        },
        "template": {
         "data": {
          "bar": [
           {
            "error_x": {
             "color": "#2a3f5f"
            },
            "error_y": {
             "color": "#2a3f5f"
            },
            "marker": {
             "line": {
              "color": "#E5ECF6",
              "width": 0.5
             },
             "pattern": {
              "fillmode": "overlay",
              "size": 10,
              "solidity": 0.2
             }
            },
            "type": "bar"
           }
          ],
          "barpolar": [
           {
            "marker": {
             "line": {
              "color": "#E5ECF6",
              "width": 0.5
             },
             "pattern": {
              "fillmode": "overlay",
              "size": 10,
              "solidity": 0.2
             }
            },
            "type": "barpolar"
           }
          ],
          "carpet": [
           {
            "aaxis": {
             "endlinecolor": "#2a3f5f",
             "gridcolor": "white",
             "linecolor": "white",
             "minorgridcolor": "white",
             "startlinecolor": "#2a3f5f"
            },
            "baxis": {
             "endlinecolor": "#2a3f5f",
             "gridcolor": "white",
             "linecolor": "white",
             "minorgridcolor": "white",
             "startlinecolor": "#2a3f5f"
            },
            "type": "carpet"
           }
          ],
          "choropleth": [
           {
            "colorbar": {
             "outlinewidth": 0,
             "ticks": ""
            },
            "type": "choropleth"
           }
          ],
          "contour": [
           {
            "colorbar": {
             "outlinewidth": 0,
             "ticks": ""
            },
            "colorscale": [
             [
              0,
              "#0d0887"
             ],
             [
              0.1111111111111111,
              "#46039f"
             ],
             [
              0.2222222222222222,
              "#7201a8"
             ],
             [
              0.3333333333333333,
              "#9c179e"
             ],
             [
              0.4444444444444444,
              "#bd3786"
             ],
             [
              0.5555555555555556,
              "#d8576b"
             ],
             [
              0.6666666666666666,
              "#ed7953"
             ],
             [
              0.7777777777777778,
              "#fb9f3a"
             ],
             [
              0.8888888888888888,
              "#fdca26"
             ],
             [
              1,
              "#f0f921"
             ]
            ],
            "type": "contour"
           }
          ],
          "contourcarpet": [
           {
            "colorbar": {
             "outlinewidth": 0,
             "ticks": ""
            },
            "type": "contourcarpet"
           }
          ],
          "heatmap": [
           {
            "colorbar": {
             "outlinewidth": 0,
             "ticks": ""
            },
            "colorscale": [
             [
              0,
              "#0d0887"
             ],
             [
              0.1111111111111111,
              "#46039f"
             ],
             [
              0.2222222222222222,
              "#7201a8"
             ],
             [
              0.3333333333333333,
              "#9c179e"
             ],
             [
              0.4444444444444444,
              "#bd3786"
             ],
             [
              0.5555555555555556,
              "#d8576b"
             ],
             [
              0.6666666666666666,
              "#ed7953"
             ],
             [
              0.7777777777777778,
              "#fb9f3a"
             ],
             [
              0.8888888888888888,
              "#fdca26"
             ],
             [
              1,
              "#f0f921"
             ]
            ],
            "type": "heatmap"
           }
          ],
          "heatmapgl": [
           {
            "colorbar": {
             "outlinewidth": 0,
             "ticks": ""
            },
            "colorscale": [
             [
              0,
              "#0d0887"
             ],
             [
              0.1111111111111111,
              "#46039f"
             ],
             [
              0.2222222222222222,
              "#7201a8"
             ],
             [
              0.3333333333333333,
              "#9c179e"
             ],
             [
              0.4444444444444444,
              "#bd3786"
             ],
             [
              0.5555555555555556,
              "#d8576b"
             ],
             [
              0.6666666666666666,
              "#ed7953"
             ],
             [
              0.7777777777777778,
              "#fb9f3a"
             ],
             [
              0.8888888888888888,
              "#fdca26"
             ],
             [
              1,
              "#f0f921"
             ]
            ],
            "type": "heatmapgl"
           }
          ],
          "histogram": [
           {
            "marker": {
             "pattern": {
              "fillmode": "overlay",
              "size": 10,
              "solidity": 0.2
             }
            },
            "type": "histogram"
           }
          ],
          "histogram2d": [
           {
            "colorbar": {
             "outlinewidth": 0,
             "ticks": ""
            },
            "colorscale": [
             [
              0,
              "#0d0887"
             ],
             [
              0.1111111111111111,
              "#46039f"
             ],
             [
              0.2222222222222222,
              "#7201a8"
             ],
             [
              0.3333333333333333,
              "#9c179e"
             ],
             [
              0.4444444444444444,
              "#bd3786"
             ],
             [
              0.5555555555555556,
              "#d8576b"
             ],
             [
              0.6666666666666666,
              "#ed7953"
             ],
             [
              0.7777777777777778,
              "#fb9f3a"
             ],
             [
              0.8888888888888888,
              "#fdca26"
             ],
             [
              1,
              "#f0f921"
             ]
            ],
            "type": "histogram2d"
           }
          ],
          "histogram2dcontour": [
           {
            "colorbar": {
             "outlinewidth": 0,
             "ticks": ""
            },
            "colorscale": [
             [
              0,
              "#0d0887"
             ],
             [
              0.1111111111111111,
              "#46039f"
             ],
             [
              0.2222222222222222,
              "#7201a8"
             ],
             [
              0.3333333333333333,
              "#9c179e"
             ],
             [
              0.4444444444444444,
              "#bd3786"
             ],
             [
              0.5555555555555556,
              "#d8576b"
             ],
             [
              0.6666666666666666,
              "#ed7953"
             ],
             [
              0.7777777777777778,
              "#fb9f3a"
             ],
             [
              0.8888888888888888,
              "#fdca26"
             ],
             [
              1,
              "#f0f921"
             ]
            ],
            "type": "histogram2dcontour"
           }
          ],
          "mesh3d": [
           {
            "colorbar": {
             "outlinewidth": 0,
             "ticks": ""
            },
            "type": "mesh3d"
           }
          ],
          "parcoords": [
           {
            "line": {
             "colorbar": {
              "outlinewidth": 0,
              "ticks": ""
             }
            },
            "type": "parcoords"
           }
          ],
          "pie": [
           {
            "automargin": true,
            "type": "pie"
           }
          ],
          "scatter": [
           {
            "fillpattern": {
             "fillmode": "overlay",
             "size": 10,
             "solidity": 0.2
            },
            "type": "scatter"
           }
          ],
          "scatter3d": [
           {
            "line": {
             "colorbar": {
              "outlinewidth": 0,
              "ticks": ""
             }
            },
            "marker": {
             "colorbar": {
              "outlinewidth": 0,
              "ticks": ""
             }
            },
            "type": "scatter3d"
           }
          ],
          "scattercarpet": [
           {
            "marker": {
             "colorbar": {
              "outlinewidth": 0,
              "ticks": ""
             }
            },
            "type": "scattercarpet"
           }
          ],
          "scattergeo": [
           {
            "marker": {
             "colorbar": {
              "outlinewidth": 0,
              "ticks": ""
             }
            },
            "type": "scattergeo"
           }
          ],
          "scattergl": [
           {
            "marker": {
             "colorbar": {
              "outlinewidth": 0,
              "ticks": ""
             }
            },
            "type": "scattergl"
           }
          ],
          "scattermapbox": [
           {
            "marker": {
             "colorbar": {
              "outlinewidth": 0,
              "ticks": ""
             }
            },
            "type": "scattermapbox"
           }
          ],
          "scatterpolar": [
           {
            "marker": {
             "colorbar": {
              "outlinewidth": 0,
              "ticks": ""
             }
            },
            "type": "scatterpolar"
           }
          ],
          "scatterpolargl": [
           {
            "marker": {
             "colorbar": {
              "outlinewidth": 0,
              "ticks": ""
             }
            },
            "type": "scatterpolargl"
           }
          ],
          "scatterternary": [
           {
            "marker": {
             "colorbar": {
              "outlinewidth": 0,
              "ticks": ""
             }
            },
            "type": "scatterternary"
           }
          ],
          "surface": [
           {
            "colorbar": {
             "outlinewidth": 0,
             "ticks": ""
            },
            "colorscale": [
             [
              0,
              "#0d0887"
             ],
             [
              0.1111111111111111,
              "#46039f"
             ],
             [
              0.2222222222222222,
              "#7201a8"
             ],
             [
              0.3333333333333333,
              "#9c179e"
             ],
             [
              0.4444444444444444,
              "#bd3786"
             ],
             [
              0.5555555555555556,
              "#d8576b"
             ],
             [
              0.6666666666666666,
              "#ed7953"
             ],
             [
              0.7777777777777778,
              "#fb9f3a"
             ],
             [
              0.8888888888888888,
              "#fdca26"
             ],
             [
              1,
              "#f0f921"
             ]
            ],
            "type": "surface"
           }
          ],
          "table": [
           {
            "cells": {
             "fill": {
              "color": "#EBF0F8"
             },
             "line": {
              "color": "white"
             }
            },
            "header": {
             "fill": {
              "color": "#C8D4E3"
             },
             "line": {
              "color": "white"
             }
            },
            "type": "table"
           }
          ]
         },
         "layout": {
          "annotationdefaults": {
           "arrowcolor": "#2a3f5f",
           "arrowhead": 0,
           "arrowwidth": 1
          },
          "autotypenumbers": "strict",
          "coloraxis": {
           "colorbar": {
            "outlinewidth": 0,
            "ticks": ""
           }
          },
          "colorscale": {
           "diverging": [
            [
             0,
             "#8e0152"
            ],
            [
             0.1,
             "#c51b7d"
            ],
            [
             0.2,
             "#de77ae"
            ],
            [
             0.3,
             "#f1b6da"
            ],
            [
             0.4,
             "#fde0ef"
            ],
            [
             0.5,
             "#f7f7f7"
            ],
            [
             0.6,
             "#e6f5d0"
            ],
            [
             0.7,
             "#b8e186"
            ],
            [
             0.8,
             "#7fbc41"
            ],
            [
             0.9,
             "#4d9221"
            ],
            [
             1,
             "#276419"
            ]
           ],
           "sequential": [
            [
             0,
             "#0d0887"
            ],
            [
             0.1111111111111111,
             "#46039f"
            ],
            [
             0.2222222222222222,
             "#7201a8"
            ],
            [
             0.3333333333333333,
             "#9c179e"
            ],
            [
             0.4444444444444444,
             "#bd3786"
            ],
            [
             0.5555555555555556,
             "#d8576b"
            ],
            [
             0.6666666666666666,
             "#ed7953"
            ],
            [
             0.7777777777777778,
             "#fb9f3a"
            ],
            [
             0.8888888888888888,
             "#fdca26"
            ],
            [
             1,
             "#f0f921"
            ]
           ],
           "sequentialminus": [
            [
             0,
             "#0d0887"
            ],
            [
             0.1111111111111111,
             "#46039f"
            ],
            [
             0.2222222222222222,
             "#7201a8"
            ],
            [
             0.3333333333333333,
             "#9c179e"
            ],
            [
             0.4444444444444444,
             "#bd3786"
            ],
            [
             0.5555555555555556,
             "#d8576b"
            ],
            [
             0.6666666666666666,
             "#ed7953"
            ],
            [
             0.7777777777777778,
             "#fb9f3a"
            ],
            [
             0.8888888888888888,
             "#fdca26"
            ],
            [
             1,
             "#f0f921"
            ]
           ]
          },
          "colorway": [
           "#636efa",
           "#EF553B",
           "#00cc96",
           "#ab63fa",
           "#FFA15A",
           "#19d3f3",
           "#FF6692",
           "#B6E880",
           "#FF97FF",
           "#FECB52"
          ],
          "font": {
           "color": "#2a3f5f"
          },
          "geo": {
           "bgcolor": "white",
           "lakecolor": "white",
           "landcolor": "#E5ECF6",
           "showlakes": true,
           "showland": true,
           "subunitcolor": "white"
          },
          "hoverlabel": {
           "align": "left"
          },
          "hovermode": "closest",
          "mapbox": {
           "style": "light"
          },
          "paper_bgcolor": "white",
          "plot_bgcolor": "#E5ECF6",
          "polar": {
           "angularaxis": {
            "gridcolor": "white",
            "linecolor": "white",
            "ticks": ""
           },
           "bgcolor": "#E5ECF6",
           "radialaxis": {
            "gridcolor": "white",
            "linecolor": "white",
            "ticks": ""
           }
          },
          "scene": {
           "xaxis": {
            "backgroundcolor": "#E5ECF6",
            "gridcolor": "white",
            "gridwidth": 2,
            "linecolor": "white",
            "showbackground": true,
            "ticks": "",
            "zerolinecolor": "white"
           },
           "yaxis": {
            "backgroundcolor": "#E5ECF6",
            "gridcolor": "white",
            "gridwidth": 2,
            "linecolor": "white",
            "showbackground": true,
            "ticks": "",
            "zerolinecolor": "white"
           },
           "zaxis": {
            "backgroundcolor": "#E5ECF6",
            "gridcolor": "white",
            "gridwidth": 2,
            "linecolor": "white",
            "showbackground": true,
            "ticks": "",
            "zerolinecolor": "white"
           }
          },
          "shapedefaults": {
           "line": {
            "color": "#2a3f5f"
           }
          },
          "ternary": {
           "aaxis": {
            "gridcolor": "white",
            "linecolor": "white",
            "ticks": ""
           },
           "baxis": {
            "gridcolor": "white",
            "linecolor": "white",
            "ticks": ""
           },
           "bgcolor": "#E5ECF6",
           "caxis": {
            "gridcolor": "white",
            "linecolor": "white",
            "ticks": ""
           }
          },
          "title": {
           "x": 0.05
          },
          "xaxis": {
           "automargin": true,
           "gridcolor": "white",
           "linecolor": "white",
           "ticks": "",
           "title": {
            "standoff": 15
           },
           "zerolinecolor": "white",
           "zerolinewidth": 2
          },
          "yaxis": {
           "automargin": true,
           "gridcolor": "white",
           "linecolor": "white",
           "ticks": "",
           "title": {
            "standoff": 15
           },
           "zerolinecolor": "white",
           "zerolinewidth": 2
          }
         }
        },
        "title": {
         "text": "Lionel-Messi-Scouting-Report percentile"
        }
       }
      }
     },
     "metadata": {},
     "output_type": "display_data"
    }
   ],
   "source": [
    "fig = make_subplots(rows=1,cols=len(results),specs=[[{'type': 'polar'}]*2])\n",
    "\n",
    "for k,v in enumerate(results):\n",
    "    k+=1\n",
    "    fig.add_trace(\n",
    "        go.Scatterpolar(r=v,theta=statsNames, fill='toself',name=positions[k-1]),1,k)\n",
    "\n",
    "fig.update_layout(\n",
    "    # height=600, width=1200,\n",
    "    title = f\"{scoutURL.split('/')[-1]} percentile\",\n",
    "    font_size = 15,\n",
    "    \n",
    ")\n",
    "fig.show()"
   ]
  }
 ],
 "metadata": {
  "kernelspec": {
   "display_name": "Python 3",
   "language": "python",
   "name": "python3"
  },
  "language_info": {
   "codemirror_mode": {
    "name": "ipython",
    "version": 3
   },
   "file_extension": ".py",
   "mimetype": "text/x-python",
   "name": "python",
   "nbconvert_exporter": "python",
   "pygments_lexer": "ipython3",
   "version": "3.10.6"
  },
  "orig_nbformat": 4
 },
 "nbformat": 4,
 "nbformat_minor": 2
}
