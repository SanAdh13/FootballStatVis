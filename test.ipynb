{
 "cells": [
  {
   "cell_type": "code",
   "execution_count": 1,
   "metadata": {},
   "outputs": [
    {
     "name": "stdout",
     "output_type": "stream",
     "text": [
      "Requirement already satisfied: bs4 in c:\\users\\samad\\appdata\\local\\programs\\python\\python310\\lib\\site-packages (0.0.1)\n",
      "Requirement already satisfied: beautifulsoup4 in c:\\users\\samad\\appdata\\local\\programs\\python\\python310\\lib\\site-packages (from bs4) (4.12.2)\n",
      "Requirement already satisfied: soupsieve>1.2 in c:\\users\\samad\\appdata\\local\\programs\\python\\python310\\lib\\site-packages (from beautifulsoup4->bs4) (2.4.1)\n"
     ]
    }
   ],
   "source": [
    "!pip install bs4"
   ]
  },
  {
   "cell_type": "code",
   "execution_count": 2,
   "metadata": {},
   "outputs": [],
   "source": [
    "# import requests\n",
    "# from bs4 import BeautifulSoup\n",
    "\n",
    "# def search_player(player_name):\n",
    "#     base_url = \"https://fbref.com\"\n",
    "#     search_url = f\"{base_url}/en/search/search.fcgi?&search={player_name.replace(' ', '-')}\"\n",
    "\n",
    "#     # Send a GET request to the search URL\n",
    "#     response = requests.get(search_url)\n",
    "#     response.raise_for_status()\n",
    "#     # print(response.json)\n",
    "    \n",
    "\n",
    "#     # # Create a BeautifulSoup object to parse the HTML content\n",
    "#     soup = BeautifulSoup(response.content, 'html.parser')\n",
    "\n",
    "#     res = soup.find_all('div',class_='search-item-name')\n",
    "    \n",
    "#      # Find all the search result items\n",
    "#     search_results = soup.find_all('div', class_='search-item-name')\n",
    "\n",
    "#     # Store the player names and URLs in a dictionary\n",
    "#     players = {}\n",
    "#     for result in search_results:\n",
    "#         player_link = result.find('a')['href']\n",
    "#         player_url = f\"{base_url}{player_link}\"\n",
    "#         player_name = result.text.strip()\n",
    "#         players[player_name] = player_url\n",
    "\n",
    "#     for key,val in players.items():\n",
    "#         print(f\"PlayerName :{key} \\n URL:{val}\\n\")\n",
    "\n",
    "#     # return players\n",
    "\n",
    "\n",
    "# # Example usage\n",
    "# player_name = \"Mason Mount\"\n",
    "# player_url = search_player(player_name)\n",
    "\n"
   ]
  },
  {
   "cell_type": "code",
   "execution_count": 3,
   "metadata": {},
   "outputs": [],
   "source": [
    "# import requests\n",
    "# from bs4 import BeautifulSoup\n",
    "\n",
    "# def search_player(player_name):\n",
    "#     base_url = \"https://fbref.com\"\n",
    "#     search_url = f\"{base_url}/en/search/search.fcgi?search={player_name.replace(' ', '+')}\"\n",
    "\n",
    "#     # Send a GET request to the search URL\n",
    "#     response = requests.get(search_url)\n",
    "#     response.raise_for_status()\n",
    "\n",
    "#     # Create a BeautifulSoup object to parse the HTML content\n",
    "#     soup = BeautifulSoup(response.content, 'html.parser')\n",
    "\n",
    "#     # Check if there is a redirect\n",
    "#     if response.url.startswith(f\"{base_url}/en/players\"):\n",
    "#         return response.url\n",
    "\n",
    "#     # Find all the search result items\n",
    "#     search_results = soup.find_all('div', class_='search-item-name')\n",
    "\n",
    "#     # Store the player names and URLs in a dictionary\n",
    "#     players = {}\n",
    "#     for result in search_results:\n",
    "#         player_link = result.find('a')['href']\n",
    "#         player_url = f\"{base_url}{player_link}\"\n",
    "#         player_name = result.find('a').text.strip()\n",
    "#         players[player_name] = player_url\n",
    "\n",
    "#     return players\n",
    "\n",
    "# # Example usage\n",
    "# player_name = \"Messi\"\n",
    "# player_info = search_player(player_name)\n",
    "\n",
    "# if isinstance(player_info, dict):\n",
    "#     for name, url in player_info.items():\n",
    "#         print(f\"{name}\\n {url}\\n\")\n",
    "# elif isinstance(player_info, str):\n",
    "#     print(f\"Player URL: {player_info}\")\n",
    "# else:\n",
    "#     print(\"Player not found.\")\n"
   ]
  },
  {
   "cell_type": "code",
   "execution_count": 4,
   "metadata": {},
   "outputs": [],
   "source": [
    "import requests\n",
    "from bs4 import BeautifulSoup"
   ]
  },
  {
   "cell_type": "code",
   "execution_count": 5,
   "metadata": {},
   "outputs": [],
   "source": [
    "scoutURL = 'https://fbref.com/en/players/d70ce98e/scout/365_m1/Lionel-Messi-Scouting-Report'\n",
    "\n",
    "# scoutURL = 'https://fbref.com/en/players/507c7bdf/scout/365_m1/Bruno-Fernandes-Scouting-Report'\n",
    "\n",
    "# scoutURL = 'https://fbref.com/en/players/f70e83a1/scout/365_m1/Bruno-Hyanem-Scouting-Report'\n",
    "response = requests.get(scoutURL)\n",
    "response.raise_for_status()\n",
    "\n",
    "# Create a BeautifulSoup object to parse the HTML content\n",
    "soup = BeautifulSoup(response.content, 'html.parser')"
   ]
  },
  {
   "cell_type": "code",
   "execution_count": 6,
   "metadata": {},
   "outputs": [],
   "source": [
    "div = soup.find('div',id='all_scout_summary')\n",
    "# div = soup.find('div',id='all_scout_full')\n",
    "\n"
   ]
  },
  {
   "cell_type": "code",
   "execution_count": 7,
   "metadata": {},
   "outputs": [
    {
     "name": "stdout",
     "output_type": "stream",
     "text": [
      "[['Non-Penalty Goals', '0.52', '82'], ['Non-Penalty xG', '0.47', '85'], ['Shots Total', '3.97', '96'], ['Assists', '0.52', '99'], ['xAG', '0.41', '99'], ['npxG + xAG', '0.88', '97'], ['Shot-Creating Actions', '6.23', '99'], ['Passes Attempted', '64.25', '99'], ['Pass Completion %', '80.9', '95'], ['Progressive Passes', '9.21', '99'], ['Progressive Carries', '3.63', '97'], ['Successful Take-Ons', '3.03', '99'], ['Touches (Att Pen)', '4.70', '44'], ['Progressive Passes Rec', '6.47', '60'], ['Tackles', '0.78', '69'], ['Interceptions', '0.13', '35'], ['Blocks', '0.37', '13'], ['Clearances', '0.00', '2'], ['Aerials won', '0.05', '1']]\n"
     ]
    }
   ],
   "source": [
    "tables = div.find_all('table')\n",
    "tableData = []\n",
    "for table in tables:\n",
    "    tbody = table.find('tbody')\n",
    "\n",
    "    # TODO: the header will have the what type for that table\n",
    "    # eg: {'vs forwards':[] , 'vs midfielder':[]} \n",
    "    headerType = {}\n",
    "\n",
    "    # Extract the data from tbody and store it in a list\n",
    "    tbody_data = []\n",
    "    rows = tbody.find_all('tr')\n",
    "    for row in rows:\n",
    "        row_data = []\n",
    "        title = row.find('th')\n",
    "        titleValue = title.get_text(strip=True)\n",
    "        row_data.append(titleValue)\n",
    "\n",
    "\n",
    "        # Extract the text from each cell in the row and append it to the tbody_data list\n",
    "        cells = row.find_all('td')\n",
    "\n",
    "        if all(cell.get_text(strip=True) == '' for cell in cells):\n",
    "            continue  # Skip the empty row\n",
    "\n",
    "        \n",
    "        for cell in cells:\n",
    "            text = cell.get_text(strip=True)\n",
    "            if text.endswith('%'):\n",
    "                row_data.append(text[:-1])\n",
    "            else:\n",
    "                row_data.append(text) \n",
    "        tbody_data.append(row_data)\n",
    "    \n",
    "    # Append the tbody_data list to the table_body_data list\n",
    "    tableData.append(tbody_data)\n",
    "\n",
    "print(tableData[0])"
   ]
  },
  {
   "cell_type": "code",
   "execution_count": 8,
   "metadata": {},
   "outputs": [],
   "source": [
    "# calculates the average percentile for each category in the complete scouting report \n",
    "def averageStatForFullScouting(STAT):\n",
    "    for stat in STAT:\n",
    "        total = 0\n",
    "        for eachval in stat:\n",
    "            total+=int(eachval[-1])\n",
    "    return total//len(stat) \n",
    "    "
   ]
  },
  {
   "attachments": {},
   "cell_type": "markdown",
   "metadata": {},
   "source": [
    "Complete Scouting Report has 135 Stats.\n",
    "Summary Scouting Report has 19 Stats\n",
    "\n"
   ]
  },
  {
   "cell_type": "code",
   "execution_count": 9,
   "metadata": {},
   "outputs": [],
   "source": [
    "standardStats = [table[:15] for table in tableData]\n",
    "shootingStats = [table[15:30] for table in tableData]\n",
    "passingStats = [table[30:52] for table in tableData]\n",
    "passTypes = [table[52:67] for table in tableData]\n",
    "goalShotCreation=[table[67:81] for table in tableData]\n",
    "defense=[table[81:97] for table in tableData]\n",
    "posession = [table[97:119] for table in tableData]\n",
    "miscStats = [table[119:]for table in tableData]\n",
    "    "
   ]
  },
  {
   "cell_type": "code",
   "execution_count": 10,
   "metadata": {},
   "outputs": [
    {
     "name": "stdout",
     "output_type": "stream",
     "text": [
      "['Non-Penalty Goals', 'Non-Penalty xG', 'Shots Total', 'Assists', 'xAG', 'npxG + xAG', 'Shot-Creating Actions', 'Passes Attempted', 'Pass Completion %', 'Progressive Passes', 'Progressive Carries', 'Successful Take-Ons', 'Touches (Att Pen)', 'Progressive Passes Rec', 'Tackles', 'Interceptions', 'Blocks', 'Clearances', 'Aerials won']\n",
      "[[82, 85, 96, 99, 99, 97, 99, 99, 95, 99, 97, 99, 44, 60, 69, 35, 13, 2, 1], [96, 98, 99, 99, 98, 99, 99, 99, 87, 99, 68, 95, 73, 30, 14, 3, 3, 1, 3]]\n"
     ]
    }
   ],
   "source": [
    "labels = []\n",
    "result = []\n",
    "def getPolarVals():\n",
    "    for table in tableData:\n",
    "        value = []\n",
    "        # print(table[0])\n",
    "        for item in table:\n",
    "            if item[0] not in labels:\n",
    "                labels.append(item[0])\n",
    "            value.append(int(item[-1]))\n",
    "        result.append(value)\n",
    "\n",
    "getPolarVals()\n",
    "print(labels)\n",
    "print(result)"
   ]
  },
  {
   "cell_type": "code",
   "execution_count": 11,
   "metadata": {},
   "outputs": [],
   "source": [
    "\n",
    "import matplotlib.pyplot as plt\n",
    "import numpy as np\n",
    "\n",
    "# print(labels)\n",
    "labelPlacement = np.linspace(start=0,stop=2*np.pi,num = len(labels))\n",
    "# labelPlacement = np.concatenate((labelPlacement,[labelPlacement[0]]))\n",
    "# result[0].append(result[0][0])\n",
    "# # radians\n",
    "# print('radians', labelPlacement)\n",
    "# # degrees\n",
    "# print('degrees', np.degrees(labelPlacement))\n",
    "\n"
   ]
  },
  {
   "cell_type": "code",
   "execution_count": 12,
   "metadata": {},
   "outputs": [],
   "source": [
    "# plt.figure(figsize=(10,10))\n",
    "# plt.subplot(polar=True)\n",
    "# i=0\n",
    "# for x in result:\n",
    "#     plt.plot(labelPlacement,x,label=f\"{i}\")\n",
    "# lines, labels = plt.thetagrids(np.degrees(labelPlacement), labels=labels)\n",
    "# plt.legend\n"
   ]
  },
  {
   "cell_type": "code",
   "execution_count": 17,
   "metadata": {},
   "outputs": [
    {
     "name": "stdout",
     "output_type": "stream",
     "text": [
      "[82, 85, 96, 99, 99, 97, 99, 99, 95, 99, 97, 99, 44, 60, 69, 35, 13, 2, 1]\n",
      "['Non-Penalty Goals', 'Non-Penalty xG', 'Shots Total', 'Assists', 'xAG', 'npxG + xAG', 'Shot-Creating Actions', 'Passes Attempted', 'Pass Completion %', 'Progressive Passes', 'Progressive Carries', 'Successful Take-Ons', 'Touches (Att Pen)', 'Progressive Passes Rec', 'Tackles', 'Interceptions', 'Blocks', 'Clearances', 'Aerials won']\n"
     ]
    }
   ],
   "source": [
    "print(result[0])\n",
    "print(labels)"
   ]
  },
  {
   "cell_type": "code",
   "execution_count": 13,
   "metadata": {},
   "outputs": [
    {
     "data": {
      "application/vnd.plotly.v1+json": {
       "config": {
        "plotlyServerURL": "https://plot.ly"
       },
       "data": [
        {
         "fill": "toself",
         "r": [
          82,
          85,
          96,
          99,
          99,
          97,
          99,
          99,
          95,
          99,
          97,
          99,
          44,
          60,
          69,
          35,
          13,
          2,
          1
         ],
         "theta": [
          "Non-Penalty Goals",
          "Non-Penalty xG",
          "Shots Total",
          "Assists",
          "xAG",
          "npxG + xAG",
          "Shot-Creating Actions",
          "Passes Attempted",
          "Pass Completion %",
          "Progressive Passes",
          "Progressive Carries",
          "Successful Take-Ons",
          "Touches (Att Pen)",
          "Progressive Passes Rec",
          "Tackles",
          "Interceptions",
          "Blocks",
          "Clearances",
          "Aerials won"
         ],
         "type": "scatterpolar"
        }
       ],
       "layout": {
        "template": {
         "data": {
          "bar": [
           {
            "error_x": {
             "color": "#2a3f5f"
            },
            "error_y": {
             "color": "#2a3f5f"
            },
            "marker": {
             "line": {
              "color": "#E5ECF6",
              "width": 0.5
             },
             "pattern": {
              "fillmode": "overlay",
              "size": 10,
              "solidity": 0.2
             }
            },
            "type": "bar"
           }
          ],
          "barpolar": [
           {
            "marker": {
             "line": {
              "color": "#E5ECF6",
              "width": 0.5
             },
             "pattern": {
              "fillmode": "overlay",
              "size": 10,
              "solidity": 0.2
             }
            },
            "type": "barpolar"
           }
          ],
          "carpet": [
           {
            "aaxis": {
             "endlinecolor": "#2a3f5f",
             "gridcolor": "white",
             "linecolor": "white",
             "minorgridcolor": "white",
             "startlinecolor": "#2a3f5f"
            },
            "baxis": {
             "endlinecolor": "#2a3f5f",
             "gridcolor": "white",
             "linecolor": "white",
             "minorgridcolor": "white",
             "startlinecolor": "#2a3f5f"
            },
            "type": "carpet"
           }
          ],
          "choropleth": [
           {
            "colorbar": {
             "outlinewidth": 0,
             "ticks": ""
            },
            "type": "choropleth"
           }
          ],
          "contour": [
           {
            "colorbar": {
             "outlinewidth": 0,
             "ticks": ""
            },
            "colorscale": [
             [
              0,
              "#0d0887"
             ],
             [
              0.1111111111111111,
              "#46039f"
             ],
             [
              0.2222222222222222,
              "#7201a8"
             ],
             [
              0.3333333333333333,
              "#9c179e"
             ],
             [
              0.4444444444444444,
              "#bd3786"
             ],
             [
              0.5555555555555556,
              "#d8576b"
             ],
             [
              0.6666666666666666,
              "#ed7953"
             ],
             [
              0.7777777777777778,
              "#fb9f3a"
             ],
             [
              0.8888888888888888,
              "#fdca26"
             ],
             [
              1,
              "#f0f921"
             ]
            ],
            "type": "contour"
           }
          ],
          "contourcarpet": [
           {
            "colorbar": {
             "outlinewidth": 0,
             "ticks": ""
            },
            "type": "contourcarpet"
           }
          ],
          "heatmap": [
           {
            "colorbar": {
             "outlinewidth": 0,
             "ticks": ""
            },
            "colorscale": [
             [
              0,
              "#0d0887"
             ],
             [
              0.1111111111111111,
              "#46039f"
             ],
             [
              0.2222222222222222,
              "#7201a8"
             ],
             [
              0.3333333333333333,
              "#9c179e"
             ],
             [
              0.4444444444444444,
              "#bd3786"
             ],
             [
              0.5555555555555556,
              "#d8576b"
             ],
             [
              0.6666666666666666,
              "#ed7953"
             ],
             [
              0.7777777777777778,
              "#fb9f3a"
             ],
             [
              0.8888888888888888,
              "#fdca26"
             ],
             [
              1,
              "#f0f921"
             ]
            ],
            "type": "heatmap"
           }
          ],
          "heatmapgl": [
           {
            "colorbar": {
             "outlinewidth": 0,
             "ticks": ""
            },
            "colorscale": [
             [
              0,
              "#0d0887"
             ],
             [
              0.1111111111111111,
              "#46039f"
             ],
             [
              0.2222222222222222,
              "#7201a8"
             ],
             [
              0.3333333333333333,
              "#9c179e"
             ],
             [
              0.4444444444444444,
              "#bd3786"
             ],
             [
              0.5555555555555556,
              "#d8576b"
             ],
             [
              0.6666666666666666,
              "#ed7953"
             ],
             [
              0.7777777777777778,
              "#fb9f3a"
             ],
             [
              0.8888888888888888,
              "#fdca26"
             ],
             [
              1,
              "#f0f921"
             ]
            ],
            "type": "heatmapgl"
           }
          ],
          "histogram": [
           {
            "marker": {
             "pattern": {
              "fillmode": "overlay",
              "size": 10,
              "solidity": 0.2
             }
            },
            "type": "histogram"
           }
          ],
          "histogram2d": [
           {
            "colorbar": {
             "outlinewidth": 0,
             "ticks": ""
            },
            "colorscale": [
             [
              0,
              "#0d0887"
             ],
             [
              0.1111111111111111,
              "#46039f"
             ],
             [
              0.2222222222222222,
              "#7201a8"
             ],
             [
              0.3333333333333333,
              "#9c179e"
             ],
             [
              0.4444444444444444,
              "#bd3786"
             ],
             [
              0.5555555555555556,
              "#d8576b"
             ],
             [
              0.6666666666666666,
              "#ed7953"
             ],
             [
              0.7777777777777778,
              "#fb9f3a"
             ],
             [
              0.8888888888888888,
              "#fdca26"
             ],
             [
              1,
              "#f0f921"
             ]
            ],
            "type": "histogram2d"
           }
          ],
          "histogram2dcontour": [
           {
            "colorbar": {
             "outlinewidth": 0,
             "ticks": ""
            },
            "colorscale": [
             [
              0,
              "#0d0887"
             ],
             [
              0.1111111111111111,
              "#46039f"
             ],
             [
              0.2222222222222222,
              "#7201a8"
             ],
             [
              0.3333333333333333,
              "#9c179e"
             ],
             [
              0.4444444444444444,
              "#bd3786"
             ],
             [
              0.5555555555555556,
              "#d8576b"
             ],
             [
              0.6666666666666666,
              "#ed7953"
             ],
             [
              0.7777777777777778,
              "#fb9f3a"
             ],
             [
              0.8888888888888888,
              "#fdca26"
             ],
             [
              1,
              "#f0f921"
             ]
            ],
            "type": "histogram2dcontour"
           }
          ],
          "mesh3d": [
           {
            "colorbar": {
             "outlinewidth": 0,
             "ticks": ""
            },
            "type": "mesh3d"
           }
          ],
          "parcoords": [
           {
            "line": {
             "colorbar": {
              "outlinewidth": 0,
              "ticks": ""
             }
            },
            "type": "parcoords"
           }
          ],
          "pie": [
           {
            "automargin": true,
            "type": "pie"
           }
          ],
          "scatter": [
           {
            "fillpattern": {
             "fillmode": "overlay",
             "size": 10,
             "solidity": 0.2
            },
            "type": "scatter"
           }
          ],
          "scatter3d": [
           {
            "line": {
             "colorbar": {
              "outlinewidth": 0,
              "ticks": ""
             }
            },
            "marker": {
             "colorbar": {
              "outlinewidth": 0,
              "ticks": ""
             }
            },
            "type": "scatter3d"
           }
          ],
          "scattercarpet": [
           {
            "marker": {
             "colorbar": {
              "outlinewidth": 0,
              "ticks": ""
             }
            },
            "type": "scattercarpet"
           }
          ],
          "scattergeo": [
           {
            "marker": {
             "colorbar": {
              "outlinewidth": 0,
              "ticks": ""
             }
            },
            "type": "scattergeo"
           }
          ],
          "scattergl": [
           {
            "marker": {
             "colorbar": {
              "outlinewidth": 0,
              "ticks": ""
             }
            },
            "type": "scattergl"
           }
          ],
          "scattermapbox": [
           {
            "marker": {
             "colorbar": {
              "outlinewidth": 0,
              "ticks": ""
             }
            },
            "type": "scattermapbox"
           }
          ],
          "scatterpolar": [
           {
            "marker": {
             "colorbar": {
              "outlinewidth": 0,
              "ticks": ""
             }
            },
            "type": "scatterpolar"
           }
          ],
          "scatterpolargl": [
           {
            "marker": {
             "colorbar": {
              "outlinewidth": 0,
              "ticks": ""
             }
            },
            "type": "scatterpolargl"
           }
          ],
          "scatterternary": [
           {
            "marker": {
             "colorbar": {
              "outlinewidth": 0,
              "ticks": ""
             }
            },
            "type": "scatterternary"
           }
          ],
          "surface": [
           {
            "colorbar": {
             "outlinewidth": 0,
             "ticks": ""
            },
            "colorscale": [
             [
              0,
              "#0d0887"
             ],
             [
              0.1111111111111111,
              "#46039f"
             ],
             [
              0.2222222222222222,
              "#7201a8"
             ],
             [
              0.3333333333333333,
              "#9c179e"
             ],
             [
              0.4444444444444444,
              "#bd3786"
             ],
             [
              0.5555555555555556,
              "#d8576b"
             ],
             [
              0.6666666666666666,
              "#ed7953"
             ],
             [
              0.7777777777777778,
              "#fb9f3a"
             ],
             [
              0.8888888888888888,
              "#fdca26"
             ],
             [
              1,
              "#f0f921"
             ]
            ],
            "type": "surface"
           }
          ],
          "table": [
           {
            "cells": {
             "fill": {
              "color": "#EBF0F8"
             },
             "line": {
              "color": "white"
             }
            },
            "header": {
             "fill": {
              "color": "#C8D4E3"
             },
             "line": {
              "color": "white"
             }
            },
            "type": "table"
           }
          ]
         },
         "layout": {
          "annotationdefaults": {
           "arrowcolor": "#2a3f5f",
           "arrowhead": 0,
           "arrowwidth": 1
          },
          "autotypenumbers": "strict",
          "coloraxis": {
           "colorbar": {
            "outlinewidth": 0,
            "ticks": ""
           }
          },
          "colorscale": {
           "diverging": [
            [
             0,
             "#8e0152"
            ],
            [
             0.1,
             "#c51b7d"
            ],
            [
             0.2,
             "#de77ae"
            ],
            [
             0.3,
             "#f1b6da"
            ],
            [
             0.4,
             "#fde0ef"
            ],
            [
             0.5,
             "#f7f7f7"
            ],
            [
             0.6,
             "#e6f5d0"
            ],
            [
             0.7,
             "#b8e186"
            ],
            [
             0.8,
             "#7fbc41"
            ],
            [
             0.9,
             "#4d9221"
            ],
            [
             1,
             "#276419"
            ]
           ],
           "sequential": [
            [
             0,
             "#0d0887"
            ],
            [
             0.1111111111111111,
             "#46039f"
            ],
            [
             0.2222222222222222,
             "#7201a8"
            ],
            [
             0.3333333333333333,
             "#9c179e"
            ],
            [
             0.4444444444444444,
             "#bd3786"
            ],
            [
             0.5555555555555556,
             "#d8576b"
            ],
            [
             0.6666666666666666,
             "#ed7953"
            ],
            [
             0.7777777777777778,
             "#fb9f3a"
            ],
            [
             0.8888888888888888,
             "#fdca26"
            ],
            [
             1,
             "#f0f921"
            ]
           ],
           "sequentialminus": [
            [
             0,
             "#0d0887"
            ],
            [
             0.1111111111111111,
             "#46039f"
            ],
            [
             0.2222222222222222,
             "#7201a8"
            ],
            [
             0.3333333333333333,
             "#9c179e"
            ],
            [
             0.4444444444444444,
             "#bd3786"
            ],
            [
             0.5555555555555556,
             "#d8576b"
            ],
            [
             0.6666666666666666,
             "#ed7953"
            ],
            [
             0.7777777777777778,
             "#fb9f3a"
            ],
            [
             0.8888888888888888,
             "#fdca26"
            ],
            [
             1,
             "#f0f921"
            ]
           ]
          },
          "colorway": [
           "#636efa",
           "#EF553B",
           "#00cc96",
           "#ab63fa",
           "#FFA15A",
           "#19d3f3",
           "#FF6692",
           "#B6E880",
           "#FF97FF",
           "#FECB52"
          ],
          "font": {
           "color": "#2a3f5f"
          },
          "geo": {
           "bgcolor": "white",
           "lakecolor": "white",
           "landcolor": "#E5ECF6",
           "showlakes": true,
           "showland": true,
           "subunitcolor": "white"
          },
          "hoverlabel": {
           "align": "left"
          },
          "hovermode": "closest",
          "mapbox": {
           "style": "light"
          },
          "paper_bgcolor": "white",
          "plot_bgcolor": "#E5ECF6",
          "polar": {
           "angularaxis": {
            "gridcolor": "white",
            "linecolor": "white",
            "ticks": ""
           },
           "bgcolor": "#E5ECF6",
           "radialaxis": {
            "gridcolor": "white",
            "linecolor": "white",
            "ticks": ""
           }
          },
          "scene": {
           "xaxis": {
            "backgroundcolor": "#E5ECF6",
            "gridcolor": "white",
            "gridwidth": 2,
            "linecolor": "white",
            "showbackground": true,
            "ticks": "",
            "zerolinecolor": "white"
           },
           "yaxis": {
            "backgroundcolor": "#E5ECF6",
            "gridcolor": "white",
            "gridwidth": 2,
            "linecolor": "white",
            "showbackground": true,
            "ticks": "",
            "zerolinecolor": "white"
           },
           "zaxis": {
            "backgroundcolor": "#E5ECF6",
            "gridcolor": "white",
            "gridwidth": 2,
            "linecolor": "white",
            "showbackground": true,
            "ticks": "",
            "zerolinecolor": "white"
           }
          },
          "shapedefaults": {
           "line": {
            "color": "#2a3f5f"
           }
          },
          "ternary": {
           "aaxis": {
            "gridcolor": "white",
            "linecolor": "white",
            "ticks": ""
           },
           "baxis": {
            "gridcolor": "white",
            "linecolor": "white",
            "ticks": ""
           },
           "bgcolor": "#E5ECF6",
           "caxis": {
            "gridcolor": "white",
            "linecolor": "white",
            "ticks": ""
           }
          },
          "title": {
           "x": 0.05
          },
          "xaxis": {
           "automargin": true,
           "gridcolor": "white",
           "linecolor": "white",
           "ticks": "",
           "title": {
            "standoff": 15
           },
           "zerolinecolor": "white",
           "zerolinewidth": 2
          },
          "yaxis": {
           "automargin": true,
           "gridcolor": "white",
           "linecolor": "white",
           "ticks": "",
           "title": {
            "standoff": 15
           },
           "zerolinecolor": "white",
           "zerolinewidth": 2
          }
         }
        }
       }
      }
     },
     "metadata": {},
     "output_type": "display_data"
    }
   ],
   "source": [
    "import plotly.graph_objects as go\n",
    "import plotly.express as px\n",
    "import pandas as pd\n",
    "# labels=[*labels,labels[0]]\n",
    "\n",
    "# result[0] = [*result[0],result[0][0]]\n",
    "\n",
    "fig = go.Figure(\n",
    "    data=go.Scatterpolar(r=result[0],theta=labels, fill='toself'),\n",
    "   \n",
    "    # layout=go.Layout(\n",
    "    #     title=go.layout.Title(text='Test'),\n",
    "    #     polar={'radialaxis': {'visible': True}},\n",
    "    #     showlegend=True\n",
    "    # )\n",
    ")\n",
    "\n",
    "# df = pd.DataFrame(dict(\n",
    "#     r=result[0],\n",
    "#     theta= labels\n",
    "# ))\n",
    "\n",
    "# fig = px.line_polar(df,r='r',theta='theta',line_close=True)\n",
    "# fig.update_traces(fill='toself')\n",
    "# fig.update_layout(\n",
    "#   polar=dict(\n",
    "#     radialaxis=dict(\n",
    "#       visible=True\n",
    "#     ),\n",
    "#   ),\n",
    "#   showlegend=False\n",
    "# )\n",
    "fig.show()"
   ]
  },
  {
   "cell_type": "code",
   "execution_count": 14,
   "metadata": {},
   "outputs": [
    {
     "name": "stdout",
     "output_type": "stream",
     "text": [
      "[82, 85, 96, 99, 99, 97, 99, 99, 95, 99, 97, 99, 44, 60, 69, 35, 13, 2, 1]\n"
     ]
    }
   ],
   "source": [
    "print(result[0])"
   ]
  },
  {
   "cell_type": "code",
   "execution_count": 15,
   "metadata": {},
   "outputs": [],
   "source": [
    "# print(averageStatForFullScouting(passingStats))"
   ]
  },
  {
   "cell_type": "markdown",
   "metadata": {},
   "source": [
    "For Summary Scouting no need for the breakdown, can just return the table"
   ]
  },
  {
   "cell_type": "code",
   "execution_count": 16,
   "metadata": {},
   "outputs": [],
   "source": [
    "import os\n",
    "# if os.path.exists(\"results\"):\n",
    "# os.mkdir(\"results/\")\n",
    "# os.mkdir(\"results/test\")\n",
    "\n",
    "# fig.write_image(\"results/test/fig.png\")\n",
    "# fig.write_image(\"results/fig.png\")\n"
   ]
  }
 ],
 "metadata": {
  "kernelspec": {
   "display_name": "Python 3",
   "language": "python",
   "name": "python3"
  },
  "language_info": {
   "codemirror_mode": {
    "name": "ipython",
    "version": 3
   },
   "file_extension": ".py",
   "mimetype": "text/x-python",
   "name": "python",
   "nbconvert_exporter": "python",
   "pygments_lexer": "ipython3",
   "version": "3.10.6"
  },
  "orig_nbformat": 4
 },
 "nbformat": 4,
 "nbformat_minor": 2
}
